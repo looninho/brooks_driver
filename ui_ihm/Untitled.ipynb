{
 "cells": [
  {
   "cell_type": "code",
   "execution_count": 6,
   "metadata": {},
   "outputs": [],
   "source": [
    "import numpy as np\n",
    "import random\n",
    "\n",
    "class Doomy:\n",
    "    def __init__(self):\n",
    "        random.seed()\n",
    "        self.data_desc = ['unit', 'fs', 'sp', 'pv']\n",
    "        self.raw_data = {}\n",
    "        for desc in self.data_desc:\n",
    "            self.raw_data[desc] = None\n",
    "        \n",
    "        self.raw_data[self.data_desc[0]] = random.sample(['scc/mn','l/mn']*10,1)[0]\n",
    "        self.raw_data[self.data_desc[1]] = random.randint(5, 20)\n",
    "        self.raw_data[self.data_desc[2]] = 0.0\n",
    "        self.raw_data[self.data_desc[3]] = 0.0\n",
    "\n",
    "    def get_all_data(self):\n",
    "        self.raw_data[self.data_desc[2]] = self.raw_data[self.data_desc[1]]/random.randint(5, 20)\n",
    "        self.raw_data[self.data_desc[3]] =  self.raw_data[self.data_desc[2]] + random.random()/10\n",
    "        return self.raw_data"
   ]
  },
  {
   "cell_type": "code",
   "execution_count": 7,
   "metadata": {},
   "outputs": [],
   "source": [
    "import time"
   ]
  },
  {
   "cell_type": "code",
   "execution_count": 8,
   "metadata": {},
   "outputs": [],
   "source": [
    "nb_mfcs = 3\n",
    "data_desc = ['unit', 'fs', 'sp', 'pv']\n",
    "\n",
    "RAW_DATA = {'time': None}\n",
    "for i in range(nb_mfcs):\n",
    "    for name in data_desc:\n",
    "        RAW_DATA[name+str(i)] = None\n",
    "        \n",
    "RAW_DATA['time'] = [time.time()]\n",
    "mfcs = [[]] * nb_mfcs"
   ]
  },
  {
   "cell_type": "code",
   "execution_count": 9,
   "metadata": {},
   "outputs": [
    {
     "data": {
      "text/plain": [
       "dict_keys(['time', 'unit0', 'fs0', 'sp0', 'pv0', 'unit1', 'fs1', 'sp1', 'pv1', 'unit2', 'fs2', 'sp2', 'pv2'])"
      ]
     },
     "execution_count": 9,
     "metadata": {},
     "output_type": "execute_result"
    }
   ],
   "source": [
    "RAW_DATA.keys()"
   ]
  },
  {
   "cell_type": "code",
   "execution_count": 10,
   "metadata": {},
   "outputs": [
    {
     "data": {
      "text/plain": [
       "dict_values([[1600786326.8260438], None, None, None, None, None, None, None, None, None, None, None, None])"
      ]
     },
     "execution_count": 10,
     "metadata": {},
     "output_type": "execute_result"
    }
   ],
   "source": [
    "RAW_DATA.values()"
   ]
  },
  {
   "cell_type": "code",
   "execution_count": 11,
   "metadata": {},
   "outputs": [],
   "source": [
    "RAW_DATA['time'] = [time.time()]\n",
    "for i in range(nb_mfcs):\n",
    "    mfcs[i]= Doomy()\n",
    "    DATA = mfcs[i].get_all_data()\n",
    "    for name in data_desc[:-1]:\n",
    "        RAW_DATA[name+str(i)] = DATA[name]\n",
    "    RAW_DATA[data_desc[-1]+str(i)] = [DATA[data_desc[-1]]]"
   ]
  },
  {
   "cell_type": "code",
   "execution_count": 12,
   "metadata": {},
   "outputs": [
    {
     "data": {
      "text/plain": [
       "dict_values([[1600786332.9751618], 'scc/mn', 15, 0.8333333333333334, [0.8749635799295858], 'scc/mn', 11, 0.8461538461538461, [0.8690134556210247], 'l/mn', 10, 0.7692307692307693, [0.8125866157088477]])"
      ]
     },
     "execution_count": 12,
     "metadata": {},
     "output_type": "execute_result"
    }
   ],
   "source": [
    "RAW_DATA.values()"
   ]
  },
  {
   "cell_type": "code",
   "execution_count": 13,
   "metadata": {},
   "outputs": [],
   "source": [
    "nb = 5\n",
    "while nb > 1:\n",
    "    RAW_DATA['time'].append(time.time())\n",
    "    for i in range(nb_mfcs):\n",
    "        DATA = mfcs[i].get_all_data()\n",
    "        RAW_DATA[data_desc[-1]+str(i)].append(DATA[data_desc[-1]])\n",
    "    nb -= 1"
   ]
  },
  {
   "cell_type": "code",
   "execution_count": 14,
   "metadata": {},
   "outputs": [
    {
     "data": {
      "text/plain": [
       "dict_keys(['time', 'unit0', 'fs0', 'sp0', 'pv0', 'unit1', 'fs1', 'sp1', 'pv1', 'unit2', 'fs2', 'sp2', 'pv2'])"
      ]
     },
     "execution_count": 14,
     "metadata": {},
     "output_type": "execute_result"
    }
   ],
   "source": [
    "RAW_DATA.keys()"
   ]
  },
  {
   "cell_type": "code",
   "execution_count": 15,
   "metadata": {},
   "outputs": [
    {
     "data": {
      "text/plain": [
       "dict_values([[1600786332.9751618, 1600786336.628609, 1600786336.628609, 1600786336.628609, 1600786336.628609], 'scc/mn', 15, 0.8333333333333334, [0.8749635799295858, 1.572364821062294, 1.2677033299314877, 2.5480919435367757, 1.0335005048953643], 'scc/mn', 11, 0.8461538461538461, [0.8690134556210247, 1.0112950637845228, 1.5911697687962232, 0.8624850655596911, 1.420480662365612], 'l/mn', 10, 0.7692307692307693, [0.8125866157088477, 0.6395524153511639, 1.278766765580385, 1.0054483029374408, 2.0175744968708025]])"
      ]
     },
     "execution_count": 15,
     "metadata": {},
     "output_type": "execute_result"
    }
   ],
   "source": [
    "RAW_DATA.values()"
   ]
  },
  {
   "cell_type": "code",
   "execution_count": 16,
   "metadata": {},
   "outputs": [
    {
     "data": {
      "text/plain": [
       "(0.8333333333333334,\n",
       " [0.8749635799295858,\n",
       "  1.572364821062294,\n",
       "  1.2677033299314877,\n",
       "  2.5480919435367757,\n",
       "  1.0335005048953643])"
      ]
     },
     "execution_count": 16,
     "metadata": {},
     "output_type": "execute_result"
    }
   ],
   "source": [
    "RAW_DATA['sp0'], RAW_DATA['pv0']"
   ]
  },
  {
   "cell_type": "code",
   "execution_count": 17,
   "metadata": {},
   "outputs": [
    {
     "data": {
      "text/plain": [
       "(0.8461538461538461,\n",
       " [0.8690134556210247,\n",
       "  1.0112950637845228,\n",
       "  1.5911697687962232,\n",
       "  0.8624850655596911,\n",
       "  1.420480662365612])"
      ]
     },
     "execution_count": 17,
     "metadata": {},
     "output_type": "execute_result"
    }
   ],
   "source": [
    "RAW_DATA['sp1'], RAW_DATA['pv1']"
   ]
  },
  {
   "cell_type": "code",
   "execution_count": 18,
   "metadata": {},
   "outputs": [
    {
     "data": {
      "text/plain": [
       "(0.7692307692307693,\n",
       " [0.8125866157088477,\n",
       "  0.6395524153511639,\n",
       "  1.278766765580385,\n",
       "  1.0054483029374408,\n",
       "  2.0175744968708025])"
      ]
     },
     "execution_count": 18,
     "metadata": {},
     "output_type": "execute_result"
    }
   ],
   "source": [
    "RAW_DATA['sp2'], RAW_DATA['pv2']"
   ]
  },
  {
   "cell_type": "code",
   "execution_count": 19,
   "metadata": {},
   "outputs": [
    {
     "data": {
      "text/plain": [
       "13"
      ]
     },
     "execution_count": 19,
     "metadata": {},
     "output_type": "execute_result"
    }
   ],
   "source": [
    "len(RAW_DATA)"
   ]
  },
  {
   "cell_type": "code",
   "execution_count": null,
   "metadata": {},
   "outputs": [],
   "source": []
  },
  {
   "cell_type": "code",
   "execution_count": null,
   "metadata": {},
   "outputs": [],
   "source": []
  },
  {
   "cell_type": "code",
   "execution_count": 1,
   "metadata": {},
   "outputs": [
    {
     "data": {
      "text/plain": [
       "'E:\\\\dev\\\\instrumentation\\\\brooks_sla\\\\ui_ihm'"
      ]
     },
     "execution_count": 1,
     "metadata": {},
     "output_type": "execute_result"
    }
   ],
   "source": [
    "import os, sys\n",
    "os.getcwd()"
   ]
  },
  {
   "cell_type": "code",
   "execution_count": 2,
   "metadata": {},
   "outputs": [],
   "source": [
    "sys.path.append('..')"
   ]
  },
  {
   "cell_type": "code",
   "execution_count": 4,
   "metadata": {},
   "outputs": [],
   "source": [
    "from brooks_s_protocol import Brooks as BrooksMFC"
   ]
  },
  {
   "cell_type": "code",
   "execution_count": 5,
   "metadata": {},
   "outputs": [
    {
     "data": {
      "text/plain": [
       "'E:\\\\dev\\\\instrumentation\\\\brooks_sla\\\\ui_ihm'"
      ]
     },
     "execution_count": 5,
     "metadata": {},
     "output_type": "execute_result"
    }
   ],
   "source": [
    "os.getcwd()"
   ]
  },
  {
   "cell_type": "code",
   "execution_count": null,
   "metadata": {},
   "outputs": [],
   "source": []
  }
 ],
 "metadata": {
  "kernelspec": {
   "display_name": "Python 3",
   "language": "python",
   "name": "python3"
  },
  "language_info": {
   "codemirror_mode": {
    "name": "ipython",
    "version": 3
   },
   "file_extension": ".py",
   "mimetype": "text/x-python",
   "name": "python",
   "nbconvert_exporter": "python",
   "pygments_lexer": "ipython3",
   "version": "3.7.3"
  }
 },
 "nbformat": 4,
 "nbformat_minor": 4
}
